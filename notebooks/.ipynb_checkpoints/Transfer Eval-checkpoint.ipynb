{
 "cells": [
  {
   "cell_type": "code",
   "execution_count": 1,
   "metadata": {},
   "outputs": [],
   "source": [
    "import os \n",
    "import datetime\n",
    "\n",
    "import matplotlib.pyplot as plt \n",
    "import numpy as np\n",
    "import pandas as pd\n",
    "import glob\n",
    "from tensorflow.compat.v1.train import summary_iterator as tf_summary_iterator\n",
    "%matplotlib inline"
   ]
  },
  {
   "cell_type": "code",
   "execution_count": 81,
   "metadata": {},
   "outputs": [],
   "source": [
    "alg = 'qmix'\n",
    "policy_map_name = \"5m_vs_6m\"\n",
    "eval_seeds = [1111111]\n",
    "load_step = None\n",
    "\n",
    "maps = [\n",
    "        '3m', \n",
    "#         '8m', \n",
    "#         '8m_vs_9m', \n",
    "#           '10m_vs_11m', '5m_vs_6m', \n",
    "#         '25m', '27m_vs_30m'\n",
    "       ]\n",
    "\n",
    "checkpoint_names = [\n",
    "#                     \"qmix__attn__rnn__heads__orig_hidden-relu-pre-fchidden_temp=0.75_lr=.0005_xy_act__seed=112358__2021-05-15_17-01-13-210400\",\n",
    "#                     \"qmix__attn__old__temp=.75_dropout=.2_lr=.0005_xy_act__seed=112358__2021-05-18_14-44-19-596503\",\n",
    "#                     \"qmix__attn__old__temp=.75_dropout=.2_lr=.0005_xy_act__seed=1285842__2021-05-18_14-44-20-404310\",\n",
    "#                     \"qmix__attn__old__qmod__temp=.75_dropout=.2_lr=.0005_xy_act__seed=112358__2021-05-18_16-39-30-606774\",\n",
    "#                     \"qmix__attn__old__qmod__temp=.75_dropout=.2_lr=.0005_xy_act__seed=1285842__2021-05-18_17-24-19-551752\",\n",
    "                    \"qmix__updet_train__seed=1285842__2021-05-20_15-47-27-608563\",\n",
    "#                     \"qmix__updet_train__seed=112358__2021-05-20_14-27-06-644926\"\n",
    "                    ] # models to check transfer for\n",
    "results_dir = \"/scratch/cluster/clw4542/results\"\n",
    "logs_basepath = \"/scratch/cluster/clw4542/results/qmix_5m_vs_6m_transfer/tb_logs\""
   ]
  },
  {
   "cell_type": "markdown",
   "metadata": {},
   "source": [
    "## Load TB Logs for Transfer "
   ]
  },
  {
   "cell_type": "code",
   "execution_count": 24,
   "metadata": {},
   "outputs": [
    {
     "data": {
      "text/plain": [
       "{'test_return_mean': 16.55094337463379,\n",
       " 'test_return_std': 4.5559282302856445,\n",
       " 'test_battle_won_mean': 0.6307692527770996,\n",
       " 'test_dead_allies_mean': 3.2153847217559814,\n",
       " 'test_dead_enemies_mean': 5.523077011108398,\n",
       " 'test_ep_length_mean': 25.830768585205078,\n",
       " 'epsilon': 0.0}"
      ]
     },
     "execution_count": 24,
     "metadata": {},
     "output_type": "execute_result"
    }
   ],
   "source": [
    "env_name_standardizer = {\n",
    "    \"3m\": \"3m\",\n",
    "    \"3\": \"3m\",\n",
    "    \"5m_vs_6m\": \"5m_vs_6m\",\n",
    "    \"5v6\": \"5m_vs_6m\",\n",
    "    \"8m\": \"8m\",\n",
    "    \"8\": \"8m\",\n",
    "    \"8m_vs_9m\": \"8m_vs_9m\",\n",
    "    \"8v9\": \"8m_vs_9m\",\n",
    "    \"10m_vs_11m\": \"10m_vs_11m\",\n",
    "    \"10v11\": \"10m_vs_11m\"\n",
    "}\n",
    "\n",
    "def newest(path_list):\n",
    "    '''Returns full path of newest file in given path'''\n",
    "#     files = os.listdir(path)\n",
    "#     paths = [os.path.join(path, basename) for basename in files]\n",
    "    return max(path_list, key=os.path.getctime)\n",
    "\n",
    "def extract_data_from_logs(logfile_path:str):\n",
    "    res_dict = {}\n",
    "    for summary in tf_summary_iterator(logfile_path):\n",
    "#         print(summary)\n",
    "        for v in summary.summary.value:\n",
    "            res_dict[v.tag] = v.simple_value\n",
    "    return res_dict\n",
    "\n",
    "def get_eval_stats(checkpoint_name, eval_map_name, load_step, logs_basepath):\n",
    "    log_basename = f'qmix__EVAL__{checkpoint_name.strip(\"/ \")}__ENV={eval_map_name}__STEP={load_step}__*'\n",
    "    log_folder = os.path.join(logs_basepath, log_basename)\n",
    "\n",
    "    # there may be multiple eval folders corresponding to same log; take latest\n",
    "    log_folders = glob.glob(log_folder, recursive=True)\n",
    "    newest_log_folder = newest(log_folders)\n",
    "    full_log_path = glob.glob(newest_log_folder + \"/*\", recursive=True)[0]\n",
    "#     print(full_log_path)\n",
    "    results_dict = extract_data_from_logs(full_log_path)\n",
    "    return results_dict\n",
    "\n",
    "# checkpoint_name = \"qmix__attn__old__temp=.75_dropout=.2_lr=.0005_xy_act__seed=112358__2021-05-18_14-44-19-596503\"\n",
    "# eval_map_name = \"5m_vs_6m\"\n",
    "# load_step = 25 #2000148 \n",
    "\n",
    "# results_dict = get_eval_stats(checkpoint_name, eval_map_name, load_step, logs_basepath)\n",
    "# results_dict['test_battle_won_mean']\n",
    "\n",
    "# extract_data_from_logs('/scratch/cluster/clw4542/results/qmix_5m_vs_6m/tb_logs/qmix__TRANSFEREVAL__seed=1111111__2021-05-20_11-44-50-849074/events.out.tfevents.1621529107.dgx-1')"
   ]
  },
  {
   "cell_type": "markdown",
   "metadata": {},
   "source": [
    "## Zero-Shot Transfer Plots"
   ]
  },
  {
   "cell_type": "code",
   "execution_count": 82,
   "metadata": {},
   "outputs": [
    {
     "data": {
      "image/png": "[encoded data removed]",
      "text/plain": [
       "<Figure size 432x288 with 1 Axes>"
      ]
     },
     "metadata": {
      "needs_background": "light"
     },
     "output_type": "display_data"
    }
   ],
   "source": [
    "results_dict = {}\n",
    "for checkpoint_name in checkpoint_names:\n",
    "    results_dict[checkpoint_name] = {}\n",
    "    \n",
    "    plt.figure()\n",
    "    plt.title(f\"Zero shot transfer for \\n{checkpoint_name}\\nTrained on 5v6\")\n",
    "    plt.xlabel(\"Timestep\")\n",
    "#     plt.ylabel(\"Test Return Mean\")\n",
    "    plt.ylabel(\"Test Battle Won Mean\")\n",
    "\n",
    "    for eval_map_name in maps:\n",
    "        results_dict[checkpoint_name][eval_map_name] = {\"ts\": [], \"test_battle_won_mean\": [], \"test_return_mean\": []}\n",
    "        \n",
    "        # grep through saved model checkpoints to get the timestep\n",
    "        checkpoint_model_path = os.path.join(results_dir, f\"{alg}_{policy_map_name}\", \"models\", checkpoint_name)\n",
    "        assert os.path.exists(checkpoint_model_path), f\"Unable to find checkpointed model for {checkpoint_name}\"\n",
    "        for ckpt_dir_path in glob.glob(checkpoint_model_path + \"/*\", recursive=True): \n",
    "            ckpt_timestep = int(os.path.basename(ckpt_dir_path))\n",
    "            battle_stats = get_eval_stats(checkpoint_name=checkpoint_name, eval_map_name=eval_map_name, \n",
    "                                          load_step=ckpt_timestep, logs_basepath=logs_basepath)\n",
    "            results_dict[checkpoint_name][eval_map_name][\"ts\"].append(ckpt_timestep)\n",
    "            results_dict[checkpoint_name][eval_map_name][\"test_battle_won_mean\"].append(battle_stats['test_battle_won_mean'])\n",
    "#             results_dict[checkpoint_name][eval_map_name][\"test_return_mean\"].append(battle_stats['test_return_mean'])\n",
    "    \n",
    "        transfer_res = results_dict[checkpoint_name][eval_map_name]\n",
    "        plt.plot(transfer_res['ts'], transfer_res['test_battle_won_mean'], label=eval_map_name + \" win rate\")\n",
    "#         plt.plot(transfer_res['ts'], transfer_res['test_return_mean'], label=eval_map_name + \" return\")\n",
    "        plt.legend(bbox_to_anchor=(1.05, 1))\n",
    "        \n",
    "        "
   ]
  },
  {
   "cell_type": "markdown",
   "metadata": {},
   "source": [
    "## Visualize Results Table"
   ]
  },
  {
   "cell_type": "code",
   "execution_count": null,
   "metadata": {},
   "outputs": [],
   "source": [
    "def get_num_agents_from_name(name_col:str):\n",
    "    '''Assume name is in format alg__{policy_map_name}__to__{eval_map_name}\n",
    "    '''\n",
    "    alg, policy_map_name, _, eval_map_name = name_col.split(\"__\")\n",
    "    policy_namelist = policy_map_name.split(\"_\")\n",
    "    eval_namelist = eval_map_name.split(\"_\")\n",
    "    \n",
    "    if len(policy_namelist) == 1: \n",
    "        n_policy_agents = n_policy_enemies = int(policy_namelist[0].strip(\"m\"))\n",
    "    else: \n",
    "        n_policy_agents, _, n_policy_enemies = policy_namelist\n",
    "        n_policy_agents = int(n_policy_agents.strip(\"m\"))\n",
    "        n_policy_enemies = int(n_policy_enemies.strip(\"m\"))\n",
    "        \n",
    "    if len(eval_namelist) == 1: \n",
    "        n_eval_agents = n_eval_enemies = int(eval_namelist[0].strip(\"m\"))\n",
    "    else: \n",
    "        n_eval_agents, _, n_eval_enemies = eval_namelist\n",
    "        n_eval_agents = int(n_eval_agents.strip(\"m\"))\n",
    "        n_eval_enemies = int(n_eval_enemies.strip(\"m\"))    \n",
    "        \n",
    "    return n_policy_agents, n_policy_enemies, n_eval_agents, n_eval_enemies, alg, policy_map_name, eval_map_name\n",
    "\n",
    "# change formatting of row names \n",
    "res_df = pd.DataFrame.from_dict(res_dict, orient='index').reset_index()\n",
    "id_cols = (res_df['index'].astype(str)\n",
    "                          .apply(get_num_agents_from_name)\n",
    "                          .apply(pd.Series)\n",
    "          )\n",
    "\n",
    "# reorder columns\n",
    "res_df[['n_policy_agents', 'n_policy_enemies', 'n_eval_agents', 'n_eval_enemies', \n",
    "        'alg', 'policy_map', 'eval_map']] = id_cols\n",
    "res_df = res_df.drop('index', axis=1)\n",
    "res_df_columns = res_df.columns.tolist()\n",
    "reordered_cols = res_df_columns[-3:] + res_df_columns[:-3]\n",
    "res_df = res_df[reordered_cols]\n",
    "\n",
    "res_df[['alg', 'policy_map', 'eval_map', 'test_return_mean', 'test_return_std', 'test_battle_won_mean', \n",
    "       'test_dead_enemies_mean', 'test_dead_allies_mean', 'test_ep_length_mean']]"
   ]
  },
  {
   "cell_type": "code",
   "execution_count": null,
   "metadata": {},
   "outputs": [],
   "source": [
    "res_df.to_csv(\"baselines_transfer.csv\")"
   ]
  }
 ],
 "metadata": {
  "kernelspec": {
   "display_name": "marl",
   "language": "python",
   "name": "python3"
  },
  "language_info": {
   "codemirror_mode": {
    "name": "ipython",
    "version": 3
   },
   "file_extension": ".py",
   "mimetype": "text/x-python",
   "name": "python",
   "nbconvert_exporter": "python",
   "pygments_lexer": "ipython3",
   "version": "3.7.9"
  }
 },
 "nbformat": 4,
 "nbformat_minor": 4
}
